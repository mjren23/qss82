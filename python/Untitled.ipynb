{
 "cells": [
  {
   "cell_type": "code",
   "execution_count": 1,
   "id": "a19270d4",
   "metadata": {},
   "outputs": [],
   "source": [
    "import csv \n",
    "import os "
   ]
  },
  {
   "cell_type": "code",
   "execution_count": 6,
   "id": "55993545",
   "metadata": {},
   "outputs": [
    {
     "name": "stdout",
     "output_type": "stream",
     "text": [
      "5553\n"
     ]
    }
   ],
   "source": [
    "all_rows = [] \n",
    "for filename in os.listdir(\"./archive\"):\n",
    "    year = int(filename.split(\"-\")[-1][:4])\n",
    "    with open(\"archive/\" + filename) as csvfile:\n",
    "        reader = csv.DictReader(csvfile)\n",
    "        for row in reader:\n",
    "            dictionary = dict()\n",
    "            for key in row.keys():\n",
    "                dictionary[key] = row[key]\n",
    "            dictionary['year'] = year\n",
    "            all_rows.append(dictionary)\n",
    "            \n",
    "for dictionary in all_rows: \n",
    "    with open('mls_salaries.csv', 'w') as csvfile:\n",
    "        fieldnames = ['first_name', 'last_name']\n",
    "        writer = csv.DictWriter(csvfile, fieldnames=fieldnames)\n"
   ]
  },
  {
   "cell_type": "code",
   "execution_count": 12,
   "id": "d1c0178e",
   "metadata": {},
   "outputs": [
    {
     "name": "stdout",
     "output_type": "stream",
     "text": [
      "{'club': 'ATL', 'min_salary': 53000.0, 'max_salary': 1912500.0}\n",
      "{'club': 'CHI', 'min_salary': 53004.0, 'max_salary': 5400000.0}\n",
      "{'club': 'CLB', 'min_salary': 53004.0, 'max_salary': 1050000.0}\n",
      "{'club': 'COL', 'min_salary': 53004.0, 'max_salary': 2000000.0}\n",
      "{'club': 'DAL', 'min_salary': 53000.0, 'max_salary': 784000.0}\n",
      "{'club': 'DC', 'min_salary': 53004.0, 'max_salary': 500000.0}\n",
      "{'club': 'HOU', 'min_salary': 53000.0, 'max_salary': 650000.0}\n",
      "{'club': 'KC', 'min_salary': 53000.0, 'max_salary': 850000.0}\n",
      "{'club': 'LA', 'min_salary': 53004.0, 'max_salary': 3750000.0}\n",
      "{'club': 'LAFC', 'min_salary': 53004.0, 'max_salary': 65004.0}\n",
      "{'club': 'MNUFC', 'min_salary': 53004.0, 'max_salary': 550008.0}\n",
      "{'club': 'MTL', 'min_salary': 53000.0, 'max_salary': 700000.08}\n",
      "{'club': 'NE', 'min_salary': 53004.0, 'max_salary': 840000.0}\n",
      "{'club': 'NYCFC', 'min_salary': 52999.92, 'max_salary': 5610000.0}\n",
      "{'club': 'NYRB', 'min_salary': 53000.0, 'max_salary': 1500000.0}\n",
      "{'club': 'ORL', 'min_salary': 53000.0, 'max_salary': 6660000.0}\n",
      "{'club': 'PHI', 'min_salary': 53004.0, 'max_salary': 1131000.0}\n",
      "{'club': 'POR', 'min_salary': 53000.0, 'max_salary': 2227500.0}\n",
      "{'club': 'RSL', 'min_salary': 53004.0, 'max_salary': 1750000.0}\n",
      "{'club': 'SEA', 'min_salary': 52999.92, 'max_salary': 3200000.0}\n",
      "{'club': 'SJ', 'min_salary': 53004.0, 'max_salary': 800000.0}\n",
      "{'club': 'TOR', 'min_salary': 53004.0, 'max_salary': 6000000.0}\n",
      "{'club': 'VAN', 'min_salary': 54075.0, 'max_salary': 1400000.04}\n"
     ]
    }
   ],
   "source": [
    "maxAndMin = dict()\n",
    "\n",
    "with open(\"archive/mls-salaries-2017.csv\", 'r') as csvfile:\n",
    "    reader = csv.DictReader(csvfile)\n",
    "    for row in reader:\n",
    "        club = row['club']\n",
    "        if (club not in maxAndMin):\n",
    "            maxAndMin[club] = dict()\n",
    "            maxAndMin[club]['min'] = 2000000\n",
    "            maxAndMin[club]['max'] = 0\n",
    "        if float(row['base_salary']) < maxAndMin[club]['min']:\n",
    "            maxAndMin[club]['min'] = float(row['base_salary'])\n",
    "        if float(row['base_salary']) > maxAndMin[club]['max']:\n",
    "            maxAndMin[club]['max'] = float(row['base_salary'])\n",
    "        \n",
    "\n",
    "for club in maxAndMin.keys(): \n",
    "    if (club == ''):\n",
    "        continue \n",
    "    with open('mls-salaries-2017.csv', 'a') as csvfile:\n",
    "        fieldnames = ['club', 'max_salary', 'min_salary']\n",
    "        writer = csv.DictWriter(csvfile, fieldnames=fieldnames)\n",
    "        to_write = dict()\n",
    "        to_write['club'] = club\n",
    "        to_write['min_salary'] = maxAndMin[club]['min']\n",
    "        to_write['max_salary'] = maxAndMin[club]['max']\n",
    "        writer.writerow(to_write)\n",
    "        \n",
    "        "
   ]
  }
 ],
 "metadata": {
  "kernelspec": {
   "display_name": "Python 3 (ipykernel)",
   "language": "python",
   "name": "python3"
  },
  "language_info": {
   "codemirror_mode": {
    "name": "ipython",
    "version": 3
   },
   "file_extension": ".py",
   "mimetype": "text/x-python",
   "name": "python",
   "nbconvert_exporter": "python",
   "pygments_lexer": "ipython3",
   "version": "3.8.9"
  }
 },
 "nbformat": 4,
 "nbformat_minor": 5
}
