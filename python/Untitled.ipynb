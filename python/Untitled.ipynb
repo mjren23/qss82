{
 "cells": [
  {
   "cell_type": "code",
   "execution_count": 1,
   "id": "a19270d4",
   "metadata": {},
   "outputs": [],
   "source": [
    "import csv \n",
    "import os "
   ]
  },
  {
   "cell_type": "code",
   "execution_count": 6,
   "id": "55993545",
   "metadata": {},
   "outputs": [
    {
     "name": "stdout",
     "output_type": "stream",
     "text": [
      "5553\n"
     ]
    }
   ],
   "source": [
    "all_rows = [] \n",
    "for filename in os.listdir(\"./archive\"):\n",
    "    year = int(filename.split(\"-\")[-1][:4])\n",
    "    with open(\"archive/\" + filename) as csvfile:\n",
    "        reader = csv.DictReader(csvfile)\n",
    "        for row in reader:\n",
    "            dictionary = dict()\n",
    "            for key in row.keys():\n",
    "                dictionary[key] = row[key]\n",
    "            dictionary['year'] = year\n",
    "            all_rows.append(dictionary)\n",
    "            \n",
    "for dictionary in all_rows: \n",
    "    with open('mls_salaries.csv', 'w') as csvfile:\n",
    "        fieldnames = ['first_name', 'last_name']\n",
    "        writer = csv.DictWriter(csvfile, fieldnames=fieldnames)\n"
   ]
  },
  {
   "cell_type": "code",
   "execution_count": null,
   "id": "d1c0178e",
   "metadata": {},
   "outputs": [],
   "source": []
  }
 ],
 "metadata": {
  "kernelspec": {
   "display_name": "Python 3 (ipykernel)",
   "language": "python",
   "name": "python3"
  },
  "language_info": {
   "codemirror_mode": {
    "name": "ipython",
    "version": 3
   },
   "file_extension": ".py",
   "mimetype": "text/x-python",
   "name": "python",
   "nbconvert_exporter": "python",
   "pygments_lexer": "ipython3",
   "version": "3.8.9"
  }
 },
 "nbformat": 4,
 "nbformat_minor": 5
}
